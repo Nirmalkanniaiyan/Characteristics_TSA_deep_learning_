{
 "cells": [
  {
   "cell_type": "code",
   "execution_count": 1,
   "metadata": {},
   "outputs": [
    {
     "name": "stdout",
     "output_type": "stream",
     "text": [
      "   Activity\n",
      "0  0.005690\n",
      "1  0.006343\n",
      "2  0.007180\n",
      "3  0.019760\n",
      "4  0.005750\n",
      "5  0.001838\n"
     ]
    }
   ],
   "source": [
    "import pandas as pd\n",
    "from sklearn import preprocessing\n",
    "df = pd.DataFrame({'Activity': [ 0.00568953,  0.00634314,  0.00718003, \n",
    "                                0.01976002, 0.00575024,  0.00183782]})\n",
    "\n",
    "print(df)\n",
    "x = df['Activity'].values.reshape(-1, 1) #returns a numpy array\n",
    "min_max_scaler = preprocessing.MinMaxScaler()\n",
    "x_scaled = min_max_scaler.fit_transform(x)\n",
    "df['Activity'] = x_scaled\n"
   ]
  }
 ],
 "metadata": {
  "kernelspec": {
   "display_name": "Python 3",
   "language": "python",
   "name": "python3"
  },
  "language_info": {
   "codemirror_mode": {
    "name": "ipython",
    "version": 3
   },
   "file_extension": ".py",
   "mimetype": "text/x-python",
   "name": "python",
   "nbconvert_exporter": "python",
   "pygments_lexer": "ipython3",
   "version": "3.10.9"
  }
 },
 "nbformat": 4,
 "nbformat_minor": 2
}
